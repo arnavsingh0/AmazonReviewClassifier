{
 "cells": [
  {
   "metadata": {},
   "cell_type": "markdown",
   "source": [
    "# HW4\n",
    "### Student: Arnav Singh\n",
    "\n",
    "\n",
    "> [!NOTE]\n",
    "> Added documentation to all the functions used, and some comments to the homework for reading."
   ],
   "id": "ba77f25c383f794a"
  },
  {
   "metadata": {},
   "cell_type": "markdown",
   "source": [
    "### Part 1: Classification with Machine Learning Models\n",
    "Have to build a good model for the dataset"
   ],
   "id": "56b7730718be8399"
  },
  {
   "cell_type": "code",
   "execution_count": null,
   "id": "initial_id",
   "metadata": {
    "collapsed": true
   },
   "outputs": [],
   "source": [
    ""
   ]
  },
  {
   "metadata": {},
   "cell_type": "code",
   "outputs": [],
   "execution_count": null,
   "source": "",
   "id": "3a0062cd9fefa308"
  }
 ],
 "metadata": {
  "kernelspec": {
   "display_name": "Python 3",
   "language": "python",
   "name": "python3"
  },
  "language_info": {
   "codemirror_mode": {
    "name": "ipython",
    "version": 2
   },
   "file_extension": ".py",
   "mimetype": "text/x-python",
   "name": "python",
   "nbconvert_exporter": "python",
   "pygments_lexer": "ipython2",
   "version": "2.7.6"
  }
 },
 "nbformat": 4,
 "nbformat_minor": 5
}
